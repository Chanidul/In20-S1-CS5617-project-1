{
  "nbformat": 4,
  "nbformat_minor": 0,
  "metadata": {
    "kernelspec": {
      "display_name": "Python 3",
      "language": "python",
      "name": "python3"
    },
    "language_info": {
      "codemirror_mode": {
        "name": "ipython",
        "version": 3
      },
      "file_extension": ".py",
      "mimetype": "text/x-python",
      "name": "python",
      "nbconvert_exporter": "python",
      "pygments_lexer": "ipython3",
      "version": "3.7.6"
    },
    "colab": {
      "name": "RideFare.ipynb",
      "provenance": []
    }
  },
  "cells": [
    {
      "cell_type": "code",
      "metadata": {
        "pycharm": {
          "name": "#%%\n"
        },
        "id": "QhgskDzLW6Ji",
        "colab_type": "code",
        "colab": {}
      },
      "source": [
        "import pandas as pd\n",
        "import numpy as np\n",
        "import seaborn as sns\n",
        "import matplotlib.pyplot as plt\n",
        "\n",
        "from sklearn.model_selection import train_test_split\n",
        "from sklearn.tree import DecisionTreeClassifier"
      ],
      "execution_count": 153,
      "outputs": []
    },
    {
      "cell_type": "code",
      "metadata": {
        "pycharm": {
          "name": "#%%\n"
        },
        "id": "I9huQmVLW6Jn",
        "colab_type": "code",
        "colab": {}
      },
      "source": [
        "url_test = 'https://raw.githubusercontent.com/Chanidul/ML_Ride_Flare_Classification/master/test.csv?token=AOJDY6GIMARC46VFJYNXME27C4I4S'\n",
        "test = pd.read_csv(url_test)\n",
        "url_train = 'https://raw.githubusercontent.com/Chanidul/ML_Ride_Flare_Classification/master/train1.csv?token=AOJDY6HMR5SQA7UNG7ZUA627C4I7G'\n",
        "train = pd.read_csv(url_train)"
      ],
      "execution_count": 154,
      "outputs": []
    },
    {
      "cell_type": "code",
      "metadata": {
        "pycharm": {
          "name": "#%%\n"
        },
        "id": "P16xhfq-W6Jr",
        "colab_type": "code",
        "colab": {
          "base_uri": "https://localhost:8080/",
          "height": 272
        },
        "outputId": "610b4a63-c9d8-4a1f-cfff-5e44709467dc"
      },
      "source": [
        "test.isnull().any()\n",
        "train.isnull().any()"
      ],
      "execution_count": 155,
      "outputs": [
        {
          "output_type": "execute_result",
          "data": {
            "text/plain": [
              "tripid                       False\n",
              "additional_fare              False\n",
              "duration                     False\n",
              "meter_waiting                False\n",
              "meter_waiting_fare           False\n",
              "meter_waiting_till_pickup    False\n",
              "pickup_time                  False\n",
              "drop_time                    False\n",
              "pick_lat                     False\n",
              "pick_lon                     False\n",
              "drop_lat                     False\n",
              "drop_lon                     False\n",
              "fare                         False\n",
              "label                        False\n",
              "dtype: bool"
            ]
          },
          "metadata": {
            "tags": []
          },
          "execution_count": 155
        }
      ]
    },
    {
      "cell_type": "code",
      "metadata": {
        "pycharm": {
          "name": "#%%\n"
        },
        "id": "IH18XkH9W6Jv",
        "colab_type": "code",
        "colab": {
          "base_uri": "https://localhost:8080/",
          "height": 34
        },
        "outputId": "a8176e2e-70b4-45f4-e144-edc5c4849aa9"
      },
      "source": [
        "print(train.shape)"
      ],
      "execution_count": 156,
      "outputs": [
        {
          "output_type": "stream",
          "text": [
            "(16968, 14)\n"
          ],
          "name": "stdout"
        }
      ]
    },
    {
      "cell_type": "code",
      "metadata": {
        "pycharm": {
          "name": "#%%\n"
        },
        "id": "qzwijHo1W6Jx",
        "colab_type": "code",
        "colab": {
          "base_uri": "https://localhost:8080/",
          "height": 204
        },
        "outputId": "320cf3bb-0b50-49fe-b1e1-e67309864987"
      },
      "source": [
        "\n",
        "train= train.replace({'label':{'correct':1,'incorrect':0}})\n",
        "train.head()"
      ],
      "execution_count": 157,
      "outputs": [
        {
          "output_type": "execute_result",
          "data": {
            "text/html": [
              "<div>\n",
              "<style scoped>\n",
              "    .dataframe tbody tr th:only-of-type {\n",
              "        vertical-align: middle;\n",
              "    }\n",
              "\n",
              "    .dataframe tbody tr th {\n",
              "        vertical-align: top;\n",
              "    }\n",
              "\n",
              "    .dataframe thead th {\n",
              "        text-align: right;\n",
              "    }\n",
              "</style>\n",
              "<table border=\"1\" class=\"dataframe\">\n",
              "  <thead>\n",
              "    <tr style=\"text-align: right;\">\n",
              "      <th></th>\n",
              "      <th>tripid</th>\n",
              "      <th>additional_fare</th>\n",
              "      <th>duration</th>\n",
              "      <th>meter_waiting</th>\n",
              "      <th>meter_waiting_fare</th>\n",
              "      <th>meter_waiting_till_pickup</th>\n",
              "      <th>pickup_time</th>\n",
              "      <th>drop_time</th>\n",
              "      <th>pick_lat</th>\n",
              "      <th>pick_lon</th>\n",
              "      <th>drop_lat</th>\n",
              "      <th>drop_lon</th>\n",
              "      <th>fare</th>\n",
              "      <th>label</th>\n",
              "    </tr>\n",
              "  </thead>\n",
              "  <tbody>\n",
              "    <tr>\n",
              "      <th>0</th>\n",
              "      <td>191444740</td>\n",
              "      <td>0.0</td>\n",
              "      <td>2505</td>\n",
              "      <td>538</td>\n",
              "      <td>0.0</td>\n",
              "      <td>163</td>\n",
              "      <td>11/12/2019 16:14</td>\n",
              "      <td>11/12/2019 16:56</td>\n",
              "      <td>6.76174</td>\n",
              "      <td>79.8980</td>\n",
              "      <td>6.87982</td>\n",
              "      <td>79.8740</td>\n",
              "      <td>0.0</td>\n",
              "      <td>0</td>\n",
              "    </tr>\n",
              "    <tr>\n",
              "      <th>1</th>\n",
              "      <td>191838640</td>\n",
              "      <td>0.0</td>\n",
              "      <td>1404</td>\n",
              "      <td>310</td>\n",
              "      <td>0.0</td>\n",
              "      <td>144</td>\n",
              "      <td>11/14/2019 8:17</td>\n",
              "      <td>11/14/2019 8:41</td>\n",
              "      <td>6.84326</td>\n",
              "      <td>79.8642</td>\n",
              "      <td>6.86544</td>\n",
              "      <td>79.8950</td>\n",
              "      <td>0.0</td>\n",
              "      <td>0</td>\n",
              "    </tr>\n",
              "    <tr>\n",
              "      <th>2</th>\n",
              "      <td>191840284</td>\n",
              "      <td>0.0</td>\n",
              "      <td>2699</td>\n",
              "      <td>340</td>\n",
              "      <td>0.0</td>\n",
              "      <td>322</td>\n",
              "      <td>11/14/2019 8:23</td>\n",
              "      <td>11/14/2019 9:08</td>\n",
              "      <td>6.84493</td>\n",
              "      <td>79.9365</td>\n",
              "      <td>6.92584</td>\n",
              "      <td>79.8529</td>\n",
              "      <td>0.0</td>\n",
              "      <td>0</td>\n",
              "    </tr>\n",
              "    <tr>\n",
              "      <th>3</th>\n",
              "      <td>191841099</td>\n",
              "      <td>0.0</td>\n",
              "      <td>2446</td>\n",
              "      <td>840</td>\n",
              "      <td>0.0</td>\n",
              "      <td>231</td>\n",
              "      <td>11/14/2019 8:25</td>\n",
              "      <td>11/14/2019 9:06</td>\n",
              "      <td>6.85527</td>\n",
              "      <td>79.8882</td>\n",
              "      <td>6.87782</td>\n",
              "      <td>79.8773</td>\n",
              "      <td>0.0</td>\n",
              "      <td>1</td>\n",
              "    </tr>\n",
              "    <tr>\n",
              "      <th>4</th>\n",
              "      <td>191839931</td>\n",
              "      <td>0.0</td>\n",
              "      <td>1837</td>\n",
              "      <td>194</td>\n",
              "      <td>0.0</td>\n",
              "      <td>402</td>\n",
              "      <td>11/14/2019 8:27</td>\n",
              "      <td>11/14/2019 8:57</td>\n",
              "      <td>6.81223</td>\n",
              "      <td>79.9336</td>\n",
              "      <td>6.87004</td>\n",
              "      <td>79.8793</td>\n",
              "      <td>0.0</td>\n",
              "      <td>0</td>\n",
              "    </tr>\n",
              "  </tbody>\n",
              "</table>\n",
              "</div>"
            ],
            "text/plain": [
              "      tripid  additional_fare  duration  ...  drop_lon  fare  label\n",
              "0  191444740              0.0      2505  ...   79.8740   0.0      0\n",
              "1  191838640              0.0      1404  ...   79.8950   0.0      0\n",
              "2  191840284              0.0      2699  ...   79.8529   0.0      0\n",
              "3  191841099              0.0      2446  ...   79.8773   0.0      1\n",
              "4  191839931              0.0      1837  ...   79.8793   0.0      0\n",
              "\n",
              "[5 rows x 14 columns]"
            ]
          },
          "metadata": {
            "tags": []
          },
          "execution_count": 157
        }
      ]
    },
    {
      "cell_type": "code",
      "metadata": {
        "id": "xw6LxsL-W6Jz",
        "colab_type": "code",
        "colab": {
          "base_uri": "https://localhost:8080/",
          "height": 204
        },
        "outputId": "ed924cee-8552-49a6-cba3-2bebc66c7283"
      },
      "source": [
        "train_final = train[['tripid','additional_fare', 'duration', 'meter_waiting', 'meter_waiting_fare', 'meter_waiting_till_pickup','pick_lat','pick_lon', 'drop_lat', 'drop_lon', 'fare', 'label']]\n",
        "\n",
        "train_final.head()"
      ],
      "execution_count": 158,
      "outputs": [
        {
          "output_type": "execute_result",
          "data": {
            "text/html": [
              "<div>\n",
              "<style scoped>\n",
              "    .dataframe tbody tr th:only-of-type {\n",
              "        vertical-align: middle;\n",
              "    }\n",
              "\n",
              "    .dataframe tbody tr th {\n",
              "        vertical-align: top;\n",
              "    }\n",
              "\n",
              "    .dataframe thead th {\n",
              "        text-align: right;\n",
              "    }\n",
              "</style>\n",
              "<table border=\"1\" class=\"dataframe\">\n",
              "  <thead>\n",
              "    <tr style=\"text-align: right;\">\n",
              "      <th></th>\n",
              "      <th>tripid</th>\n",
              "      <th>additional_fare</th>\n",
              "      <th>duration</th>\n",
              "      <th>meter_waiting</th>\n",
              "      <th>meter_waiting_fare</th>\n",
              "      <th>meter_waiting_till_pickup</th>\n",
              "      <th>pick_lat</th>\n",
              "      <th>pick_lon</th>\n",
              "      <th>drop_lat</th>\n",
              "      <th>drop_lon</th>\n",
              "      <th>fare</th>\n",
              "      <th>label</th>\n",
              "    </tr>\n",
              "  </thead>\n",
              "  <tbody>\n",
              "    <tr>\n",
              "      <th>0</th>\n",
              "      <td>191444740</td>\n",
              "      <td>0.0</td>\n",
              "      <td>2505</td>\n",
              "      <td>538</td>\n",
              "      <td>0.0</td>\n",
              "      <td>163</td>\n",
              "      <td>6.76174</td>\n",
              "      <td>79.8980</td>\n",
              "      <td>6.87982</td>\n",
              "      <td>79.8740</td>\n",
              "      <td>0.0</td>\n",
              "      <td>0</td>\n",
              "    </tr>\n",
              "    <tr>\n",
              "      <th>1</th>\n",
              "      <td>191838640</td>\n",
              "      <td>0.0</td>\n",
              "      <td>1404</td>\n",
              "      <td>310</td>\n",
              "      <td>0.0</td>\n",
              "      <td>144</td>\n",
              "      <td>6.84326</td>\n",
              "      <td>79.8642</td>\n",
              "      <td>6.86544</td>\n",
              "      <td>79.8950</td>\n",
              "      <td>0.0</td>\n",
              "      <td>0</td>\n",
              "    </tr>\n",
              "    <tr>\n",
              "      <th>2</th>\n",
              "      <td>191840284</td>\n",
              "      <td>0.0</td>\n",
              "      <td>2699</td>\n",
              "      <td>340</td>\n",
              "      <td>0.0</td>\n",
              "      <td>322</td>\n",
              "      <td>6.84493</td>\n",
              "      <td>79.9365</td>\n",
              "      <td>6.92584</td>\n",
              "      <td>79.8529</td>\n",
              "      <td>0.0</td>\n",
              "      <td>0</td>\n",
              "    </tr>\n",
              "    <tr>\n",
              "      <th>3</th>\n",
              "      <td>191841099</td>\n",
              "      <td>0.0</td>\n",
              "      <td>2446</td>\n",
              "      <td>840</td>\n",
              "      <td>0.0</td>\n",
              "      <td>231</td>\n",
              "      <td>6.85527</td>\n",
              "      <td>79.8882</td>\n",
              "      <td>6.87782</td>\n",
              "      <td>79.8773</td>\n",
              "      <td>0.0</td>\n",
              "      <td>1</td>\n",
              "    </tr>\n",
              "    <tr>\n",
              "      <th>4</th>\n",
              "      <td>191839931</td>\n",
              "      <td>0.0</td>\n",
              "      <td>1837</td>\n",
              "      <td>194</td>\n",
              "      <td>0.0</td>\n",
              "      <td>402</td>\n",
              "      <td>6.81223</td>\n",
              "      <td>79.9336</td>\n",
              "      <td>6.87004</td>\n",
              "      <td>79.8793</td>\n",
              "      <td>0.0</td>\n",
              "      <td>0</td>\n",
              "    </tr>\n",
              "  </tbody>\n",
              "</table>\n",
              "</div>"
            ],
            "text/plain": [
              "      tripid  additional_fare  duration  ...  drop_lon  fare  label\n",
              "0  191444740              0.0      2505  ...   79.8740   0.0      0\n",
              "1  191838640              0.0      1404  ...   79.8950   0.0      0\n",
              "2  191840284              0.0      2699  ...   79.8529   0.0      0\n",
              "3  191841099              0.0      2446  ...   79.8773   0.0      1\n",
              "4  191839931              0.0      1837  ...   79.8793   0.0      0\n",
              "\n",
              "[5 rows x 12 columns]"
            ]
          },
          "metadata": {
            "tags": []
          },
          "execution_count": 158
        }
      ]
    },
    {
      "cell_type": "code",
      "metadata": {
        "id": "slqOAkG4W6J1",
        "colab_type": "code",
        "colab": {
          "base_uri": "https://localhost:8080/",
          "height": 204
        },
        "outputId": "d95a3a14-c3e8-4283-c81b-a698b6db3862"
      },
      "source": [
        "test_final = test[['tripid','additional_fare', 'duration', 'meter_waiting', 'meter_waiting_fare', 'meter_waiting_till_pickup','pick_lat','pick_lon', 'drop_lat', 'drop_lon', 'fare']]\n",
        "\n",
        "test_final.head()"
      ],
      "execution_count": 159,
      "outputs": [
        {
          "output_type": "execute_result",
          "data": {
            "text/html": [
              "<div>\n",
              "<style scoped>\n",
              "    .dataframe tbody tr th:only-of-type {\n",
              "        vertical-align: middle;\n",
              "    }\n",
              "\n",
              "    .dataframe tbody tr th {\n",
              "        vertical-align: top;\n",
              "    }\n",
              "\n",
              "    .dataframe thead th {\n",
              "        text-align: right;\n",
              "    }\n",
              "</style>\n",
              "<table border=\"1\" class=\"dataframe\">\n",
              "  <thead>\n",
              "    <tr style=\"text-align: right;\">\n",
              "      <th></th>\n",
              "      <th>tripid</th>\n",
              "      <th>additional_fare</th>\n",
              "      <th>duration</th>\n",
              "      <th>meter_waiting</th>\n",
              "      <th>meter_waiting_fare</th>\n",
              "      <th>meter_waiting_till_pickup</th>\n",
              "      <th>pick_lat</th>\n",
              "      <th>pick_lon</th>\n",
              "      <th>drop_lat</th>\n",
              "      <th>drop_lon</th>\n",
              "      <th>fare</th>\n",
              "    </tr>\n",
              "  </thead>\n",
              "  <tbody>\n",
              "    <tr>\n",
              "      <th>0</th>\n",
              "      <td>213284604</td>\n",
              "      <td>10.5</td>\n",
              "      <td>924</td>\n",
              "      <td>42</td>\n",
              "      <td>2.4486</td>\n",
              "      <td>148</td>\n",
              "      <td>6.83454</td>\n",
              "      <td>79.8750</td>\n",
              "      <td>6.77490</td>\n",
              "      <td>79.8840</td>\n",
              "      <td>289.27</td>\n",
              "    </tr>\n",
              "    <tr>\n",
              "      <th>1</th>\n",
              "      <td>213286352</td>\n",
              "      <td>10.5</td>\n",
              "      <td>4249</td>\n",
              "      <td>20</td>\n",
              "      <td>0.0000</td>\n",
              "      <td>91</td>\n",
              "      <td>6.91168</td>\n",
              "      <td>79.8723</td>\n",
              "      <td>6.55091</td>\n",
              "      <td>79.9706</td>\n",
              "      <td>1912.70</td>\n",
              "    </tr>\n",
              "    <tr>\n",
              "      <th>2</th>\n",
              "      <td>213293973</td>\n",
              "      <td>10.5</td>\n",
              "      <td>1552</td>\n",
              "      <td>255</td>\n",
              "      <td>2.6588</td>\n",
              "      <td>23</td>\n",
              "      <td>6.92145</td>\n",
              "      <td>79.8478</td>\n",
              "      <td>6.90539</td>\n",
              "      <td>79.8989</td>\n",
              "      <td>394.00</td>\n",
              "    </tr>\n",
              "    <tr>\n",
              "      <th>3</th>\n",
              "      <td>213294622</td>\n",
              "      <td>10.5</td>\n",
              "      <td>462</td>\n",
              "      <td>16</td>\n",
              "      <td>0.0000</td>\n",
              "      <td>198</td>\n",
              "      <td>6.77433</td>\n",
              "      <td>79.9416</td>\n",
              "      <td>6.80401</td>\n",
              "      <td>79.9407</td>\n",
              "      <td>154.32</td>\n",
              "    </tr>\n",
              "    <tr>\n",
              "      <th>4</th>\n",
              "      <td>213298687</td>\n",
              "      <td>10.5</td>\n",
              "      <td>814</td>\n",
              "      <td>392</td>\n",
              "      <td>12.3692</td>\n",
              "      <td>69</td>\n",
              "      <td>6.97968</td>\n",
              "      <td>79.9130</td>\n",
              "      <td>6.98875</td>\n",
              "      <td>79.8914</td>\n",
              "      <td>147.47</td>\n",
              "    </tr>\n",
              "  </tbody>\n",
              "</table>\n",
              "</div>"
            ],
            "text/plain": [
              "      tripid  additional_fare  duration  ...  drop_lat  drop_lon     fare\n",
              "0  213284604             10.5       924  ...   6.77490   79.8840   289.27\n",
              "1  213286352             10.5      4249  ...   6.55091   79.9706  1912.70\n",
              "2  213293973             10.5      1552  ...   6.90539   79.8989   394.00\n",
              "3  213294622             10.5       462  ...   6.80401   79.9407   154.32\n",
              "4  213298687             10.5       814  ...   6.98875   79.8914   147.47\n",
              "\n",
              "[5 rows x 11 columns]"
            ]
          },
          "metadata": {
            "tags": []
          },
          "execution_count": 159
        }
      ]
    },
    {
      "cell_type": "code",
      "metadata": {
        "id": "uhF2Vm4oW6J4",
        "colab_type": "code",
        "colab": {}
      },
      "source": [
        "X = train_final.loc[:, train_final.columns != \"label\"]\n",
        "Y = train_final.loc[:, train_final.columns == \"label\"]"
      ],
      "execution_count": 160,
      "outputs": []
    },
    {
      "cell_type": "code",
      "metadata": {
        "id": "TNBQCn7yW6J6",
        "colab_type": "code",
        "colab": {}
      },
      "source": [
        "X_train, X_test, y_train, y_test = train_test_split(X, Y)"
      ],
      "execution_count": 161,
      "outputs": []
    },
    {
      "cell_type": "code",
      "metadata": {
        "id": "f5TURFD9W6J8",
        "colab_type": "code",
        "colab": {}
      },
      "source": [
        "from sklearn.ensemble import RandomForestClassifier\n",
        "rfc = RandomForestClassifier(n_estimators=2000, random_state= 1)"
      ],
      "execution_count": 182,
      "outputs": []
    },
    {
      "cell_type": "code",
      "metadata": {
        "id": "rCLNmZ4oW6J-",
        "colab_type": "code",
        "colab": {
          "base_uri": "https://localhost:8080/",
          "height": 153
        },
        "outputId": "614886cc-3064-401a-bc36-09710f562789"
      },
      "source": [
        "rfc.fit(X_train, y_train.values.ravel())"
      ],
      "execution_count": 183,
      "outputs": [
        {
          "output_type": "execute_result",
          "data": {
            "text/plain": [
              "RandomForestClassifier(bootstrap=True, ccp_alpha=0.0, class_weight=None,\n",
              "                       criterion='gini', max_depth=None, max_features='auto',\n",
              "                       max_leaf_nodes=2, max_samples=None,\n",
              "                       min_impurity_decrease=0.0, min_impurity_split=None,\n",
              "                       min_samples_leaf=1, min_samples_split=2,\n",
              "                       min_weight_fraction_leaf=0.0, n_estimators=2000,\n",
              "                       n_jobs=None, oob_score=False, random_state=1, verbose=0,\n",
              "                       warm_start=False)"
            ]
          },
          "metadata": {
            "tags": []
          },
          "execution_count": 183
        }
      ]
    },
    {
      "cell_type": "code",
      "metadata": {
        "id": "4YYwUqKtW6KA",
        "colab_type": "code",
        "colab": {}
      },
      "source": [
        "y_pred = rfc.predict(test_final)\n"
      ],
      "execution_count": 184,
      "outputs": []
    },
    {
      "cell_type": "code",
      "metadata": {
        "id": "XLwGtH-jW6KG",
        "colab_type": "code",
        "colab": {}
      },
      "source": [
        "with open('pred6.csv', 'w') as fp:\n",
        "    fp.write(\"tripid,prediction\\n\")\n",
        "    for i,p in enumerate(y_pred):\n",
        "        fp.write(\"{},{}\\n\".format(test_data['tripid'].iloc[i], y_pred[i]))\n"
      ],
      "execution_count": 186,
      "outputs": []
    },
    {
      "cell_type": "markdown",
      "metadata": {
        "id": "lGHnCx0zqQPw",
        "colab_type": "text"
      },
      "source": [
        "# New Section"
      ]
    },
    {
      "cell_type": "code",
      "metadata": {
        "id": "ozXW9pT1W6KJ",
        "colab_type": "code",
        "colab": {}
      },
      "source": [
        ""
      ],
      "execution_count": null,
      "outputs": []
    }
  ]
}