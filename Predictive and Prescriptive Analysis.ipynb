{
 "cells": [
  {
   "cell_type": "markdown",
   "metadata": {},
   "source": [
    "### Predictive: What is likely to happen?\n",
    "\n",
    "### Prescriptive: What do I need to do?\n",
    "\n"
   ]
  },
  {
   "cell_type": "code",
   "execution_count": 86,
   "metadata": {},
   "outputs": [],
   "source": [
    "import pandas as pd"
   ]
  },
  {
   "cell_type": "markdown",
   "metadata": {},
   "source": [
    "## Load data from excel file"
   ]
  },
  {
   "cell_type": "code",
   "execution_count": 121,
   "metadata": {},
   "outputs": [
    {
     "name": "stdout",
     "output_type": "stream",
     "text": [
      "Index(['Date', 'Product', 'Planned start Time', 'Actual Start Time',\n",
      "       'Stop Time', 'Total time', 'Startup Delay', 'BD & other',\n",
      "       'Eff Prod time', 'Operating Speed', 'Produced Qty', 'Rejects Qty',\n",
      "       'Mix Usage', 'Mix Wastage', 'Mix yield', 'AR', 'PR', 'QR', 'OEE',\n",
      "       'Mix Per Stick', 'Efficiency', 'Planned Qty'],\n",
      "      dtype='object')\n"
     ]
    },
    {
     "data": {
      "text/html": [
       "<div>\n",
       "<style scoped>\n",
       "    .dataframe tbody tr th:only-of-type {\n",
       "        vertical-align: middle;\n",
       "    }\n",
       "\n",
       "    .dataframe tbody tr th {\n",
       "        vertical-align: top;\n",
       "    }\n",
       "\n",
       "    .dataframe thead th {\n",
       "        text-align: right;\n",
       "    }\n",
       "</style>\n",
       "<table border=\"1\" class=\"dataframe\">\n",
       "  <thead>\n",
       "    <tr style=\"text-align: right;\">\n",
       "      <th></th>\n",
       "      <th>Date</th>\n",
       "      <th>Product</th>\n",
       "      <th>Planned start Time</th>\n",
       "      <th>Actual Start Time</th>\n",
       "      <th>Stop Time</th>\n",
       "      <th>Total time</th>\n",
       "      <th>Startup Delay</th>\n",
       "      <th>BD &amp; other</th>\n",
       "      <th>Eff Prod time</th>\n",
       "      <th>Operating Speed</th>\n",
       "      <th>...</th>\n",
       "      <th>Mix Usage</th>\n",
       "      <th>Mix Wastage</th>\n",
       "      <th>Mix yield</th>\n",
       "      <th>AR</th>\n",
       "      <th>PR</th>\n",
       "      <th>QR</th>\n",
       "      <th>OEE</th>\n",
       "      <th>Mix Per Stick</th>\n",
       "      <th>Efficiency</th>\n",
       "      <th>Planned Qty</th>\n",
       "    </tr>\n",
       "  </thead>\n",
       "  <tbody>\n",
       "    <tr>\n",
       "      <th>0</th>\n",
       "      <td>2018-07-02</td>\n",
       "      <td>WB Chocolate</td>\n",
       "      <td>06:30:00</td>\n",
       "      <td>10:30:00</td>\n",
       "      <td>20:30:00</td>\n",
       "      <td>14.0</td>\n",
       "      <td>4.0</td>\n",
       "      <td>5.15</td>\n",
       "      <td>4.85</td>\n",
       "      <td>28880</td>\n",
       "      <td>...</td>\n",
       "      <td>7840.0</td>\n",
       "      <td>991.000</td>\n",
       "      <td>0.873597</td>\n",
       "      <td>0.346429</td>\n",
       "      <td>1.496754</td>\n",
       "      <td>0.873597</td>\n",
       "      <td>0.452976</td>\n",
       "      <td>0.0375</td>\n",
       "      <td>0.499675</td>\n",
       "      <td>NaN</td>\n",
       "    </tr>\n",
       "    <tr>\n",
       "      <th>1</th>\n",
       "      <td>2018-07-04</td>\n",
       "      <td>WB Vanilla</td>\n",
       "      <td>06:00:00</td>\n",
       "      <td>18:30:00</td>\n",
       "      <td>20:00:00</td>\n",
       "      <td>14.0</td>\n",
       "      <td>12.5</td>\n",
       "      <td>0.00</td>\n",
       "      <td>1.50</td>\n",
       "      <td>28880</td>\n",
       "      <td>...</td>\n",
       "      <td>1160.0</td>\n",
       "      <td>40.625</td>\n",
       "      <td>0.964978</td>\n",
       "      <td>0.107143</td>\n",
       "      <td>0.716049</td>\n",
       "      <td>0.964978</td>\n",
       "      <td>0.074033</td>\n",
       "      <td>0.0375</td>\n",
       "      <td>0.098710</td>\n",
       "      <td>NaN</td>\n",
       "    </tr>\n",
       "  </tbody>\n",
       "</table>\n",
       "<p>2 rows × 22 columns</p>\n",
       "</div>"
      ],
      "text/plain": [
       "        Date       Product Planned start Time Actual Start Time Stop Time  \\\n",
       "0 2018-07-02  WB Chocolate           06:30:00          10:30:00  20:30:00   \n",
       "1 2018-07-04    WB Vanilla           06:00:00          18:30:00  20:00:00   \n",
       "\n",
       "   Total time  Startup Delay  BD & other  Eff Prod time  Operating Speed  ...  \\\n",
       "0        14.0            4.0        5.15           4.85            28880  ...   \n",
       "1        14.0           12.5        0.00           1.50            28880  ...   \n",
       "\n",
       "   Mix Usage  Mix Wastage  Mix yield        AR        PR        QR       OEE  \\\n",
       "0     7840.0      991.000   0.873597  0.346429  1.496754  0.873597  0.452976   \n",
       "1     1160.0       40.625   0.964978  0.107143  0.716049  0.964978  0.074033   \n",
       "\n",
       "   Mix Per Stick  Efficiency  Planned Qty  \n",
       "0         0.0375    0.499675          NaN  \n",
       "1         0.0375    0.098710          NaN  \n",
       "\n",
       "[2 rows x 22 columns]"
      ]
     },
     "execution_count": 121,
     "metadata": {},
     "output_type": "execute_result"
    }
   ],
   "source": [
    "df = pd.read_excel('../data/Production Data Versaline.xlsx')\n",
    "df = df.rename(columns={\"Breakdowns and other delays\": \"BD & other\", \"Effective production time\": \"Eff Prod time\"})\n",
    "print(df.columns)\n",
    "df.head(2)"
   ]
  },
  {
   "cell_type": "markdown",
   "metadata": {},
   "source": [
    "### Calculate Rejects percentage and add as a colomn\n",
    "\n",
    "Rejects percentage = Rejects Qty / Total Qty"
   ]
  },
  {
   "cell_type": "code",
   "execution_count": 122,
   "metadata": {},
   "outputs": [],
   "source": [
    "# Add rejects percentage\n",
    "\n",
    "def get_rejects_percentage(row):\n",
    "    return row[\"Rejects Qty\"]/row[\"Produced Qty\"]\n",
    "\n",
    "df['Rejects Pct'] = df.apply (lambda row: get_rejects_percentage(row), axis=1)\n",
    "# df.info()"
   ]
  },
  {
   "cell_type": "code",
   "execution_count": 123,
   "metadata": {},
   "outputs": [],
   "source": [
    "# df2 = pd.read_excel('../data/Production Data Flexline.xlsx', sheet_name=1)\n",
    "# print(df2.columns)\n",
    "# df2.head(2)\n"
   ]
  },
  {
   "cell_type": "markdown",
   "metadata": {},
   "source": [
    "AR - Avaliability Rate\n",
    "\n",
    "PR - Perfromance Rate\n",
    "\n",
    "QR - Quality Rate\n",
    "\n",
    "OEE - Overall Equipment Efficiency (AR * PR * QR)\n",
    "\n",
    "Product |\n",
    "production Qty |\n",
    "Breakdown time |\n",
    "Rejects percentage |"
   ]
  },
  {
   "cell_type": "markdown",
   "metadata": {},
   "source": [
    "## Select only the useful features\n",
    "remove duplicate features such as start time and end time"
   ]
  },
  {
   "cell_type": "code",
   "execution_count": 125,
   "metadata": {},
   "outputs": [
    {
     "data": {
      "text/html": [
       "<div>\n",
       "<style scoped>\n",
       "    .dataframe tbody tr th:only-of-type {\n",
       "        vertical-align: middle;\n",
       "    }\n",
       "\n",
       "    .dataframe tbody tr th {\n",
       "        vertical-align: top;\n",
       "    }\n",
       "\n",
       "    .dataframe thead th {\n",
       "        text-align: right;\n",
       "    }\n",
       "</style>\n",
       "<table border=\"1\" class=\"dataframe\">\n",
       "  <thead>\n",
       "    <tr style=\"text-align: right;\">\n",
       "      <th></th>\n",
       "      <th>Product</th>\n",
       "      <th>Produced Qty</th>\n",
       "      <th>BD &amp; other</th>\n",
       "      <th>Startup Delay</th>\n",
       "      <th>Eff Prod time</th>\n",
       "      <th>Rejects Pct</th>\n",
       "      <th>OEE</th>\n",
       "    </tr>\n",
       "  </thead>\n",
       "  <tbody>\n",
       "    <tr>\n",
       "      <th>0</th>\n",
       "      <td>WB Chocolate</td>\n",
       "      <td>182640</td>\n",
       "      <td>5.15</td>\n",
       "      <td>4.0</td>\n",
       "      <td>4.85</td>\n",
       "      <td>0.144693</td>\n",
       "      <td>0.452976</td>\n",
       "    </tr>\n",
       "    <tr>\n",
       "      <th>1</th>\n",
       "      <td>WB Vanilla</td>\n",
       "      <td>29850</td>\n",
       "      <td>0.00</td>\n",
       "      <td>12.5</td>\n",
       "      <td>1.50</td>\n",
       "      <td>0.036293</td>\n",
       "      <td>0.074033</td>\n",
       "    </tr>\n",
       "  </tbody>\n",
       "</table>\n",
       "</div>"
      ],
      "text/plain": [
       "        Product  Produced Qty  BD & other  Startup Delay  Eff Prod time  \\\n",
       "0  WB Chocolate        182640        5.15            4.0           4.85   \n",
       "1    WB Vanilla         29850        0.00           12.5           1.50   \n",
       "\n",
       "   Rejects Pct       OEE  \n",
       "0     0.144693  0.452976  \n",
       "1     0.036293  0.074033  "
      ]
     },
     "execution_count": 125,
     "metadata": {},
     "output_type": "execute_result"
    }
   ],
   "source": [
    "useful_colomns = [\"Product\", \"Produced Qty\", \"BD & other\", \n",
    "                  \"Startup Delay\", \"Eff Prod time\", \"Rejects Pct\", \"OEE\"]\n",
    "df = df[useful_colomns]\n",
    "\n",
    "df.head(2)"
   ]
  },
  {
   "cell_type": "code",
   "execution_count": 126,
   "metadata": {},
   "outputs": [
    {
     "data": {
      "text/plain": [
       "array(['WB Chocolate', 'WB Vanilla', 'JJ Necto', 'MM Watermelon',\n",
       "       'MM Orange', 'WB Chock Shock', 'WB Berry', '2-Bar Vanilla Faluda',\n",
       "       'JJ Cream Soda', 'JJ Orange Crush ', 'Ice Cake', 'Bubble Gumy',\n",
       "       'JJ Creamsoda', 'WB Vnilla', 'Bubble Gummy', 'Ice cake',\n",
       "       'WB Chocok Shock', 'JJ Orange Crush'], dtype=object)"
      ]
     },
     "execution_count": 126,
     "metadata": {},
     "output_type": "execute_result"
    }
   ],
   "source": [
    "df.Product.unique()"
   ]
  },
  {
   "cell_type": "markdown",
   "metadata": {},
   "source": [
    "## Rename Duplicates products with the correct name"
   ]
  },
  {
   "cell_type": "code",
   "execution_count": 127,
   "metadata": {},
   "outputs": [
    {
     "name": "stdout",
     "output_type": "stream",
     "text": [
      "WB Chocolate    = 62\n",
      "WB Vanilla      = 74\n",
      "JJ Necto        = 45\n",
      "MM Watermelon   = 51\n",
      "MM Orange       = 65\n",
      "WB Chock Shock  = 30\n",
      "WB Berry        = 16\n",
      "2-Bar Vanilla Faluda = 65\n",
      "JJ Cream Soda   = 15\n",
      "JJ Orange Crush = 8\n",
      "Ice Cake        = 5\n",
      "Bubble Gummy    = 5\n"
     ]
    }
   ],
   "source": [
    "df = df.replace({'Product': {\"JJ Orange Crush \": \"JJ Orange Crush\", \n",
    "                             \"WB Chocok Shock\": \"WB Chock Shock\",\n",
    "                            \"Ice cake\": \"Ice Cake\",\n",
    "                            \"Bubble Gumy\":\"Bubble Gummy\", \n",
    "                            \"WB Vnilla\": \"WB Vanilla\",\n",
    "                            \"JJ Creamsoda\": \"JJ Cream Soda\"}})\n",
    "for product in df.Product.unique():\n",
    "    print(\"{:15} = {}\".format(product, df[df[\"Product\"] == product][\"Product\"].count()))"
   ]
  },
  {
   "cell_type": "code",
   "execution_count": 128,
   "metadata": {},
   "outputs": [
    {
     "name": "stdout",
     "output_type": "stream",
     "text": [
      "Number of rows: 441\n",
      "<class 'pandas.core.frame.DataFrame'>\n",
      "RangeIndex: 441 entries, 0 to 440\n",
      "Data columns (total 7 columns):\n",
      " #   Column         Non-Null Count  Dtype  \n",
      "---  ------         --------------  -----  \n",
      " 0   Product        441 non-null    object \n",
      " 1   Produced Qty   441 non-null    int64  \n",
      " 2   BD & other     441 non-null    float64\n",
      " 3   Startup Delay  441 non-null    float64\n",
      " 4   Eff Prod time  441 non-null    float64\n",
      " 5   Rejects Pct    440 non-null    float64\n",
      " 6   OEE            441 non-null    float64\n",
      "dtypes: float64(5), int64(1), object(1)\n",
      "memory usage: 24.2+ KB\n"
     ]
    }
   ],
   "source": [
    "print(\"Number of rows: {}\".format(df.Product.count()))\n",
    "df.info()"
   ]
  },
  {
   "cell_type": "markdown",
   "metadata": {},
   "source": [
    "## Fill the NAN values with the mean of the colomn"
   ]
  },
  {
   "cell_type": "code",
   "execution_count": 129,
   "metadata": {},
   "outputs": [
    {
     "name": "stdout",
     "output_type": "stream",
     "text": [
      "<class 'pandas.core.frame.DataFrame'>\n",
      "RangeIndex: 441 entries, 0 to 440\n",
      "Data columns (total 7 columns):\n",
      " #   Column         Non-Null Count  Dtype  \n",
      "---  ------         --------------  -----  \n",
      " 0   Product        441 non-null    object \n",
      " 1   Produced Qty   441 non-null    int64  \n",
      " 2   BD & other     441 non-null    float64\n",
      " 3   Startup Delay  441 non-null    float64\n",
      " 4   Eff Prod time  441 non-null    float64\n",
      " 5   Rejects Pct    441 non-null    float64\n",
      " 6   OEE            441 non-null    float64\n",
      "dtypes: float64(5), int64(1), object(1)\n",
      "memory usage: 24.2+ KB\n"
     ]
    }
   ],
   "source": [
    "for val in [\"Rejects Pct\"]:#[\"Rejects Pct\", \"Mix yield\"]\n",
    "    df[val] = df[val].fillna(df[val].mean())\n",
    "    \n",
    "df.info()"
   ]
  },
  {
   "cell_type": "code",
   "execution_count": 130,
   "metadata": {},
   "outputs": [],
   "source": [
    "group_by_products = df.groupby(by=['Product'])\n",
    "product_data_avg = group_by_products.mean()\n",
    "product_data_count = group_by_products.count()\n",
    "# print(product_data_avg)\n",
    "# print(product_data_count)"
   ]
  },
  {
   "cell_type": "markdown",
   "metadata": {},
   "source": [
    "## Some plots using seaboarn\n",
    "https://towardsdatascience.com/a-guide-to-pandas-and-matplotlib-for-data-exploration-56fad95f951c\n",
    "    "
   ]
  },
  {
   "cell_type": "code",
   "execution_count": 131,
   "metadata": {},
   "outputs": [],
   "source": [
    "# import seaborn as sns\n",
    "# %matplotlib inline\n",
    "\n",
    "# filtered_class = df[df['Product'] == 'WB Chocolate']\n",
    "# sns.lmplot(\"OEE\", \"Rejects Pct\", data=filtered_class, fit_reg=False, col='Product', col_wrap=2)"
   ]
  },
  {
   "cell_type": "markdown",
   "metadata": {},
   "source": [
    "frames = [df[df[\"Mix yield\"].isna()], df[df[\"Rejects Qty\"].isna()]]\n",
    "pd.concat(frames)"
   ]
  },
  {
   "cell_type": "code",
   "execution_count": 132,
   "metadata": {
    "scrolled": false
   },
   "outputs": [],
   "source": [
    "# from matplotlib.ticker import AutoMinorLocator\n",
    "# import matplotlib.pyplot as plt\n",
    "\n",
    "# fig = plt.figure(figsize=(18,6))\n",
    "\n",
    "# ax1 = sns.violinplot('Product', \"OEE\", data=df)\n",
    "\n",
    "\n",
    "# ax1.minorticks_on()\n",
    "# ax1.xaxis.set_minor_locator(AutoMinorLocator(2))\n",
    "# ax1.grid(which='minor', axis='x', linewidth=1)"
   ]
  },
  {
   "cell_type": "code",
   "execution_count": 133,
   "metadata": {},
   "outputs": [],
   "source": [
    "# sns.pairplot(df.loc[:,df.dtypes == 'float64'])"
   ]
  },
  {
   "cell_type": "code",
   "execution_count": 134,
   "metadata": {},
   "outputs": [],
   "source": [
    "# corr = df.loc[:,df.dtypes == 'float64'].corr()\n",
    "# sns.heatmap(corr, xticklabels=corr.columns, yticklabels=corr.columns, cmap=sns.diverging_palette(220, 10, as_cmap=True))"
   ]
  },
  {
   "cell_type": "code",
   "execution_count": 135,
   "metadata": {},
   "outputs": [
    {
     "name": "stdout",
     "output_type": "stream",
     "text": [
      "Product              = 12\n",
      "Produced Qty         = 433\n",
      "BD & other           = 261\n",
      "Startup Delay        = 130\n",
      "Eff Prod time        = 386\n",
      "Rejects Pct          = 301\n",
      "OEE                  = 439\n"
     ]
    }
   ],
   "source": [
    "for col in df.columns.values:\n",
    "    print(\"{:20} = {}\".format(col, df[col].nunique()))"
   ]
  },
  {
   "cell_type": "code",
   "execution_count": null,
   "metadata": {},
   "outputs": [],
   "source": []
  },
  {
   "cell_type": "markdown",
   "metadata": {},
   "source": [
    "## Decision Tree "
   ]
  },
  {
   "cell_type": "code",
   "execution_count": 136,
   "metadata": {},
   "outputs": [],
   "source": [
    "from sklearn.tree import DecisionTreeRegressor\n",
    "from sklearn.model_selection import train_test_split\n",
    "from sklearn.metrics import r2_score\n",
    "\n"
   ]
  },
  {
   "cell_type": "code",
   "execution_count": 137,
   "metadata": {},
   "outputs": [],
   "source": [
    "# Products as a input\n",
    "df['Product'] = pd.Categorical(df['Product'])\n",
    "dfDummies = pd.get_dummies(df['Product'], prefix = 'prod')\n",
    "# dfDummies.info()\n",
    "df_p = pd.concat([df, dfDummies], axis=1)\n",
    "# df_p.info()"
   ]
  },
  {
   "cell_type": "code",
   "execution_count": 138,
   "metadata": {},
   "outputs": [],
   "source": [
    "# Select only one product\n",
    "# df_p = df[df['Product']==\"WB Chocolate\"]\n",
    "# df_p = df[df['Product']==\"MM Orange\"]"
   ]
  },
  {
   "cell_type": "code",
   "execution_count": 139,
   "metadata": {},
   "outputs": [
    {
     "name": "stdout",
     "output_type": "stream",
     "text": [
      "Accuracy: 0.8050498844168842\n"
     ]
    }
   ],
   "source": [
    "\n",
    "y = df_p[\"OEE\"]\n",
    "X = df_p.drop(['Product', 'OEE'], axis = 1) \n",
    "\n",
    "X_train, X_test, y_train, y_test = train_test_split(X, y, test_size=0.2, random_state=0)\n",
    "\n",
    "regressor = DecisionTreeRegressor(random_state=0)\n",
    "regressor.fit(X_train,y_train)\n",
    "\n",
    "y_pred = regressor.predict(X_test)\n",
    "print(\"Accuracy:\", r2_score(y_test, y_pred))"
   ]
  },
  {
   "cell_type": "markdown",
   "metadata": {},
   "source": [
    "# sudo apt install python3-pip"
   ]
  },
  {
   "cell_type": "code",
   "execution_count": 18,
   "metadata": {},
   "outputs": [],
   "source": [
    "y_pred = regressor.predict([X.loc[1]])"
   ]
  },
  {
   "cell_type": "code",
   "execution_count": 19,
   "metadata": {},
   "outputs": [
    {
     "name": "stdout",
     "output_type": "stream",
     "text": [
      "[0.29907407]\n"
     ]
    }
   ],
   "source": [
    "print(y_pred)"
   ]
  },
  {
   "cell_type": "code",
   "execution_count": 20,
   "metadata": {},
   "outputs": [
    {
     "data": {
      "text/plain": [
       "0.0987103174603175"
      ]
     },
     "execution_count": 20,
     "metadata": {},
     "output_type": "execute_result"
    }
   ],
   "source": [
    "y.loc[1]"
   ]
  },
  {
   "cell_type": "code",
   "execution_count": 119,
   "metadata": {},
   "outputs": [
    {
     "data": {
      "image/png": "[encoded data removed]",
      "text/plain": [
       "<Figure size 432x288 with 1 Axes>"
      ]
     },
     "metadata": {
      "needs_background": "light"
     },
     "output_type": "display_data"
    }
   ],
   "source": [
    "from sklearn import tree\n",
    "t = tree.plot_tree(regressor)"
   ]
  },
  {
   "cell_type": "code",
   "execution_count": 157,
   "metadata": {},
   "outputs": [
    {
     "name": "stdout",
     "output_type": "stream",
     "text": [
      "['Produced Qty', 'BD & other', 'Startup Delay', 'Eff Prod time', 'Rejects Pct', 'prod_2-Bar Vanilla Faluda', 'prod_Bubble Gummy', 'prod_Ice Cake', 'prod_JJ Cream Soda', 'prod_JJ Necto', 'prod_JJ Orange Crush', 'prod_MM Orange', 'prod_MM Watermelon', 'prod_WB Berry', 'prod_WB Chock Shock', 'prod_WB Chocolate', 'prod_WB Vanilla']\n"
     ]
    },
    {
     "data": {
      "text/plain": [
       "True"
      ]
     },
     "execution_count": 157,
     "metadata": {},
     "output_type": "execute_result"
    }
   ],
   "source": [
    "import matplotlib.pyplot as plt\n",
    "import pydotplus\n",
    "import matplotlib.image as mpimg\n",
    "import io\n",
    "\n",
    "from sklearn.externals.six import StringIO\n",
    "from sklearn.tree import export_graphviz\n",
    "\n",
    "dot_data = io.StringIO()\n",
    "\n",
    "# plot_colomns = useful_colomns.remove(\"OEE\")#[\"Total time\", \"Breakdowns and other delays\", \"Effective production time\", \"Produced Qty\", \"Rejects Qty\", \"Mix Usage\", \"Mix Wastage\", \"Mix yield\"]\n",
    "plot_colomns = list(df_p.columns)\n",
    "plot_colomns.remove('OEE')\n",
    "plot_colomns.remove('Product')\n",
    "print(plot_colomns)\n",
    "export_graphviz(regressor, out_file=dot_data, feature_names=plot_colomns, class_names=[\"OEE\"], rounded=True, filled=True)\n",
    "\n",
    "filename = \"tree_new.png\"\n",
    "pydotplus.graph_from_dot_data(dot_data.getvalue()).write_png(filename)\n",
    "\n",
    "# plt.figure(figsize=(12,12))\n",
    "# img = mpimg.imread(filename)\n",
    "# imgplot = plt.imshow(img)\n",
    "\n",
    "# plt.show()"
   ]
  },
  {
   "cell_type": "code",
   "execution_count": 141,
   "metadata": {},
   "outputs": [
    {
     "name": "stdout",
     "output_type": "stream",
     "text": [
      "0.0132042253521127\n",
      "0.983522727272727\n",
      "0.59131585640157\n",
      "0.04040355028693334\n"
     ]
    }
   ],
   "source": [
    "import numpy as np\n",
    "val = \"OEE\"\n",
    "print(np.min(df[val]))\n",
    "print(np.max(df[val]))\n",
    "print(np.average(df[val]))\n",
    "print(np.var(df[val]))"
   ]
  },
  {
   "cell_type": "code",
   "execution_count": 158,
   "metadata": {},
   "outputs": [
    {
     "data": {
      "text/plain": [
       "array([[<matplotlib.axes._subplots.AxesSubplot object at 0x7f23186f2390>]],\n",
       "      dtype=object)"
      ]
     },
     "execution_count": 158,
     "metadata": {},
     "output_type": "execute_result"
    },
    {
     "data": {
      "image/png": "[encoded data removed]",
      "text/plain": [
       "<Figure size 432x288 with 1 Axes>"
      ]
     },
     "metadata": {
      "needs_background": "light"
     },
     "output_type": "display_data"
    }
   ],
   "source": [
    "df.hist(bins=20, column=\"OEE\")"
   ]
  },
  {
   "cell_type": "code",
   "execution_count": 25,
   "metadata": {},
   "outputs": [
    {
     "data": {
      "text/plain": [
       "array([[<matplotlib.axes._subplots.AxesSubplot object at 0x7f23191069d0>,\n",
       "        <matplotlib.axes._subplots.AxesSubplot object at 0x7f231548b890>,\n",
       "        <matplotlib.axes._subplots.AxesSubplot object at 0x7f2315478650>],\n",
       "       [<matplotlib.axes._subplots.AxesSubplot object at 0x7f23154e7490>,\n",
       "        <matplotlib.axes._subplots.AxesSubplot object at 0x7f23154d9190>,\n",
       "        <matplotlib.axes._subplots.AxesSubplot object at 0x7f2315448110>],\n",
       "       [<matplotlib.axes._subplots.AxesSubplot object at 0x7f2315468f10>,\n",
       "        <matplotlib.axes._subplots.AxesSubplot object at 0x7f2364ee2710>,\n",
       "        <matplotlib.axes._subplots.AxesSubplot object at 0x7f2364eedcd0>]],\n",
       "      dtype=object)"
      ]
     },
     "execution_count": 25,
     "metadata": {},
     "output_type": "execute_result"
    },
    {
     "data": {
      "image/png": "[encoded data removed]",
      "text/plain": [
       "<Figure size 1080x1080 with 9 Axes>"
      ]
     },
     "metadata": {
      "needs_background": "light"
     },
     "output_type": "display_data"
    }
   ],
   "source": [
    "df.hist(bins=20, figsize=(15,15))"
   ]
  },
  {
   "cell_type": "code",
   "execution_count": null,
   "metadata": {},
   "outputs": [],
   "source": []
  }
 ],
 "metadata": {
  "kernelspec": {
   "display_name": "Python 3",
   "language": "python",
   "name": "python3"
  },
  "language_info": {
   "codemirror_mode": {
    "name": "ipython",
    "version": 3
   },
   "file_extension": ".py",
   "mimetype": "text/x-python",
   "name": "python",
   "nbconvert_exporter": "python",
   "pygments_lexer": "ipython3",
   "version": "3.7.6"
  }
 },
 "nbformat": 4,
 "nbformat_minor": 4
}
