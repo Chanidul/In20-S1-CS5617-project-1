{
 "cells": [
  {
   "cell_type": "markdown",
   "metadata": {},
   "source": [
    "### Predictive: What is likely to happen?\n",
    "\n",
    "### Prescriptive: What do I need to do?\n",
    "\n"
   ]
  },
  {
   "cell_type": "code",
   "execution_count": 58,
   "metadata": {},
   "outputs": [],
   "source": [
    "import pandas as pd\n",
    "import seaborn as sns"
   ]
  },
  {
   "cell_type": "markdown",
   "metadata": {},
   "source": [
    "## Load data from excel file"
   ]
  },
  {
   "cell_type": "code",
   "execution_count": 32,
   "metadata": {},
   "outputs": [
    {
     "name": "stdout",
     "output_type": "stream",
     "text": [
      "Index(['Date', 'Product', 'Planned start Time', 'Actual Start Time',\n",
      "       'Stop Time', 'Total time', 'Startup Delay', 'BD & other',\n",
      "       'Eff Prod time', 'Operating Speed', 'Produced Qty', 'Rejects Qty',\n",
      "       'Mix Usage', 'Mix Wastage', 'Mix yield', 'AR', 'PR', 'QR', 'OEE',\n",
      "       'Mix Per Stick', 'Efficiency', 'Planned Qty'],\n",
      "      dtype='object')\n"
     ]
    },
    {
     "data": {
      "text/html": [
       "<div>\n",
       "<style scoped>\n",
       "    .dataframe tbody tr th:only-of-type {\n",
       "        vertical-align: middle;\n",
       "    }\n",
       "\n",
       "    .dataframe tbody tr th {\n",
       "        vertical-align: top;\n",
       "    }\n",
       "\n",
       "    .dataframe thead th {\n",
       "        text-align: right;\n",
       "    }\n",
       "</style>\n",
       "<table border=\"1\" class=\"dataframe\">\n",
       "  <thead>\n",
       "    <tr style=\"text-align: right;\">\n",
       "      <th></th>\n",
       "      <th>Date</th>\n",
       "      <th>Product</th>\n",
       "      <th>Planned start Time</th>\n",
       "      <th>Actual Start Time</th>\n",
       "      <th>Stop Time</th>\n",
       "      <th>Total time</th>\n",
       "      <th>Startup Delay</th>\n",
       "      <th>BD &amp; other</th>\n",
       "      <th>Eff Prod time</th>\n",
       "      <th>Operating Speed</th>\n",
       "      <th>...</th>\n",
       "      <th>Mix Usage</th>\n",
       "      <th>Mix Wastage</th>\n",
       "      <th>Mix yield</th>\n",
       "      <th>AR</th>\n",
       "      <th>PR</th>\n",
       "      <th>QR</th>\n",
       "      <th>OEE</th>\n",
       "      <th>Mix Per Stick</th>\n",
       "      <th>Efficiency</th>\n",
       "      <th>Planned Qty</th>\n",
       "    </tr>\n",
       "  </thead>\n",
       "  <tbody>\n",
       "    <tr>\n",
       "      <th>0</th>\n",
       "      <td>2018-07-02</td>\n",
       "      <td>WB Chocolate</td>\n",
       "      <td>06:30:00</td>\n",
       "      <td>10:30:00</td>\n",
       "      <td>20:30:00</td>\n",
       "      <td>14.0</td>\n",
       "      <td>4.0</td>\n",
       "      <td>5.15</td>\n",
       "      <td>4.85</td>\n",
       "      <td>28880</td>\n",
       "      <td>...</td>\n",
       "      <td>7840.0</td>\n",
       "      <td>991.000</td>\n",
       "      <td>0.873597</td>\n",
       "      <td>0.346429</td>\n",
       "      <td>1.496754</td>\n",
       "      <td>0.873597</td>\n",
       "      <td>0.452976</td>\n",
       "      <td>0.0375</td>\n",
       "      <td>0.499675</td>\n",
       "      <td>NaN</td>\n",
       "    </tr>\n",
       "    <tr>\n",
       "      <th>1</th>\n",
       "      <td>2018-07-04</td>\n",
       "      <td>WB Vanilla</td>\n",
       "      <td>06:00:00</td>\n",
       "      <td>18:30:00</td>\n",
       "      <td>20:00:00</td>\n",
       "      <td>14.0</td>\n",
       "      <td>12.5</td>\n",
       "      <td>0.00</td>\n",
       "      <td>1.50</td>\n",
       "      <td>28880</td>\n",
       "      <td>...</td>\n",
       "      <td>1160.0</td>\n",
       "      <td>40.625</td>\n",
       "      <td>0.964978</td>\n",
       "      <td>0.107143</td>\n",
       "      <td>0.716049</td>\n",
       "      <td>0.964978</td>\n",
       "      <td>0.074033</td>\n",
       "      <td>0.0375</td>\n",
       "      <td>0.098710</td>\n",
       "      <td>NaN</td>\n",
       "    </tr>\n",
       "  </tbody>\n",
       "</table>\n",
       "<p>2 rows × 22 columns</p>\n",
       "</div>"
      ],
      "text/plain": [
       "        Date       Product Planned start Time Actual Start Time Stop Time  \\\n",
       "0 2018-07-02  WB Chocolate           06:30:00          10:30:00  20:30:00   \n",
       "1 2018-07-04    WB Vanilla           06:00:00          18:30:00  20:00:00   \n",
       "\n",
       "   Total time  Startup Delay  BD & other  Eff Prod time  Operating Speed  ...  \\\n",
       "0        14.0            4.0        5.15           4.85            28880  ...   \n",
       "1        14.0           12.5        0.00           1.50            28880  ...   \n",
       "\n",
       "   Mix Usage  Mix Wastage  Mix yield        AR        PR        QR       OEE  \\\n",
       "0     7840.0      991.000   0.873597  0.346429  1.496754  0.873597  0.452976   \n",
       "1     1160.0       40.625   0.964978  0.107143  0.716049  0.964978  0.074033   \n",
       "\n",
       "   Mix Per Stick  Efficiency  Planned Qty  \n",
       "0         0.0375    0.499675          NaN  \n",
       "1         0.0375    0.098710          NaN  \n",
       "\n",
       "[2 rows x 22 columns]"
      ]
     },
     "execution_count": 32,
     "metadata": {},
     "output_type": "execute_result"
    }
   ],
   "source": [
    "df = pd.read_excel('../data/Production Data Versaline.xlsx')\n",
    "df = df.rename(columns={\"Breakdowns and other delays\": \"BD & other\", \"Effective production time\": \"Eff Prod time\"})\n",
    "print(df.columns)\n",
    "df.head(2)"
   ]
  },
  {
   "cell_type": "markdown",
   "metadata": {},
   "source": [
    "### Calculate Rejects percentage and add as a colomn\n",
    "\n",
    "Rejects percentage = Rejects Qty / Total Qty"
   ]
  },
  {
   "cell_type": "code",
   "execution_count": 33,
   "metadata": {},
   "outputs": [],
   "source": [
    "# Add rejects percentage\n",
    "\n",
    "def get_rejects_percentage(row):\n",
    "    return row[\"Rejects Qty\"]/row[\"Produced Qty\"]\n",
    "\n",
    "df['Rejects Pct'] = df.apply (lambda row: get_rejects_percentage(row), axis=1)\n",
    "# df.info()"
   ]
  },
  {
   "cell_type": "code",
   "execution_count": 34,
   "metadata": {},
   "outputs": [],
   "source": [
    "# df2 = pd.read_excel('../data/Production Data Flexline.xlsx', sheet_name=1)\n",
    "# print(df2.columns)\n",
    "# df2.head(2)\n"
   ]
  },
  {
   "cell_type": "markdown",
   "metadata": {},
   "source": [
    "AR - Avaliability Rate\n",
    "\n",
    "PR - Perfromance Rate\n",
    "\n",
    "QR - Quality Rate\n",
    "\n",
    "OEE - Overall Equipment Efficiency (AR * PR * QR)\n",
    "\n",
    "Product |\n",
    "production Qty |\n",
    "Breakdown time |\n",
    "Rejects percentage |"
   ]
  },
  {
   "cell_type": "markdown",
   "metadata": {},
   "source": [
    "## Select only the useful features\n",
    "remove duplicate features such as start time and end time"
   ]
  },
  {
   "cell_type": "code",
   "execution_count": 35,
   "metadata": {},
   "outputs": [
    {
     "data": {
      "text/html": [
       "<div>\n",
       "<style scoped>\n",
       "    .dataframe tbody tr th:only-of-type {\n",
       "        vertical-align: middle;\n",
       "    }\n",
       "\n",
       "    .dataframe tbody tr th {\n",
       "        vertical-align: top;\n",
       "    }\n",
       "\n",
       "    .dataframe thead th {\n",
       "        text-align: right;\n",
       "    }\n",
       "</style>\n",
       "<table border=\"1\" class=\"dataframe\">\n",
       "  <thead>\n",
       "    <tr style=\"text-align: right;\">\n",
       "      <th></th>\n",
       "      <th>Product</th>\n",
       "      <th>Produced Qty</th>\n",
       "      <th>BD &amp; other</th>\n",
       "      <th>Startup Delay</th>\n",
       "      <th>Total time</th>\n",
       "      <th>Rejects Pct</th>\n",
       "      <th>OEE</th>\n",
       "    </tr>\n",
       "  </thead>\n",
       "  <tbody>\n",
       "    <tr>\n",
       "      <th>0</th>\n",
       "      <td>WB Chocolate</td>\n",
       "      <td>182640</td>\n",
       "      <td>5.15</td>\n",
       "      <td>4.0</td>\n",
       "      <td>14.0</td>\n",
       "      <td>0.144693</td>\n",
       "      <td>0.452976</td>\n",
       "    </tr>\n",
       "    <tr>\n",
       "      <th>1</th>\n",
       "      <td>WB Vanilla</td>\n",
       "      <td>29850</td>\n",
       "      <td>0.00</td>\n",
       "      <td>12.5</td>\n",
       "      <td>14.0</td>\n",
       "      <td>0.036293</td>\n",
       "      <td>0.074033</td>\n",
       "    </tr>\n",
       "  </tbody>\n",
       "</table>\n",
       "</div>"
      ],
      "text/plain": [
       "        Product  Produced Qty  BD & other  Startup Delay  Total time  \\\n",
       "0  WB Chocolate        182640        5.15            4.0        14.0   \n",
       "1    WB Vanilla         29850        0.00           12.5        14.0   \n",
       "\n",
       "   Rejects Pct       OEE  \n",
       "0     0.144693  0.452976  \n",
       "1     0.036293  0.074033  "
      ]
     },
     "execution_count": 35,
     "metadata": {},
     "output_type": "execute_result"
    }
   ],
   "source": [
    "useful_colomns = [\"Product\", \"Produced Qty\", \"BD & other\", \n",
    "                  \"Startup Delay\", \"Total time\", \"Rejects Pct\", \"OEE\"]\n",
    "df = df[useful_colomns]\n",
    "\n",
    "df.head(2)"
   ]
  },
  {
   "cell_type": "code",
   "execution_count": 36,
   "metadata": {},
   "outputs": [
    {
     "data": {
      "text/plain": [
       "array(['WB Chocolate', 'WB Vanilla', 'JJ Necto', 'MM Watermelon',\n",
       "       'MM Orange', 'WB Chock Shock', 'WB Berry', '2-Bar Vanilla Faluda',\n",
       "       'JJ Cream Soda', 'JJ Orange Crush ', 'Ice Cake', 'Bubble Gumy',\n",
       "       'JJ Creamsoda', 'WB Vnilla', 'Bubble Gummy', 'Ice cake',\n",
       "       'WB Chocok Shock', 'JJ Orange Crush'], dtype=object)"
      ]
     },
     "execution_count": 36,
     "metadata": {},
     "output_type": "execute_result"
    }
   ],
   "source": [
    "df.Product.unique()"
   ]
  },
  {
   "cell_type": "markdown",
   "metadata": {},
   "source": [
    "## Rename Duplicates products with the correct name"
   ]
  },
  {
   "cell_type": "code",
   "execution_count": 37,
   "metadata": {},
   "outputs": [
    {
     "name": "stdout",
     "output_type": "stream",
     "text": [
      "WB Chocolate    = 62\n",
      "WB Vanilla      = 74\n",
      "JJ Necto        = 45\n",
      "MM Watermelon   = 51\n",
      "MM Orange       = 65\n",
      "WB Chock Shock  = 30\n",
      "WB Berry        = 16\n",
      "2-Bar Vanilla Faluda = 65\n",
      "JJ Cream Soda   = 15\n",
      "JJ Orange Crush = 8\n",
      "Ice Cake        = 5\n",
      "Bubble Gummy    = 5\n"
     ]
    }
   ],
   "source": [
    "df = df.replace({'Product': {\"JJ Orange Crush \": \"JJ Orange Crush\", \n",
    "                             \"WB Chocok Shock\": \"WB Chock Shock\",\n",
    "                            \"Ice cake\": \"Ice Cake\",\n",
    "                            \"Bubble Gumy\":\"Bubble Gummy\", \n",
    "                            \"WB Vnilla\": \"WB Vanilla\",\n",
    "                            \"JJ Creamsoda\": \"JJ Cream Soda\"}})\n",
    "for product in df.Product.unique():\n",
    "    print(\"{:15} = {}\".format(product, df[df[\"Product\"] == product][\"Product\"].count()))"
   ]
  },
  {
   "cell_type": "code",
   "execution_count": 57,
   "metadata": {},
   "outputs": [
    {
     "name": "stdout",
     "output_type": "stream",
     "text": [
      "Number of rows: 441\n",
      "<class 'pandas.core.frame.DataFrame'>\n",
      "RangeIndex: 441 entries, 0 to 440\n",
      "Data columns (total 7 columns):\n",
      " #   Column         Non-Null Count  Dtype   \n",
      "---  ------         --------------  -----   \n",
      " 0   Product        441 non-null    category\n",
      " 1   Produced Qty   441 non-null    int64   \n",
      " 2   BD & other     441 non-null    float64 \n",
      " 3   Startup Delay  441 non-null    float64 \n",
      " 4   Total time     441 non-null    float64 \n",
      " 5   Rejects Pct    441 non-null    float64 \n",
      " 6   OEE            441 non-null    float64 \n",
      "dtypes: category(1), float64(5), int64(1)\n",
      "memory usage: 21.6 KB\n"
     ]
    },
    {
     "ename": "NameError",
     "evalue": "name 'sns' is not defined",
     "output_type": "error",
     "traceback": [
      "\u001b[0;31m---------------------------------------------------------------------------\u001b[0m",
      "\u001b[0;31mNameError\u001b[0m                                 Traceback (most recent call last)",
      "\u001b[0;32m<ipython-input-57-b9e8660473ea>\u001b[0m in \u001b[0;36m<module>\u001b[0;34m\u001b[0m\n\u001b[1;32m      3\u001b[0m \u001b[0mcorr\u001b[0m \u001b[0;34m=\u001b[0m \u001b[0mdf\u001b[0m\u001b[0;34m.\u001b[0m\u001b[0mloc\u001b[0m\u001b[0;34m[\u001b[0m\u001b[0;34m:\u001b[0m\u001b[0;34m,\u001b[0m\u001b[0mdf\u001b[0m\u001b[0;34m.\u001b[0m\u001b[0mdtypes\u001b[0m \u001b[0;34m==\u001b[0m \u001b[0;34m'float64'\u001b[0m\u001b[0;34m]\u001b[0m\u001b[0;34m.\u001b[0m\u001b[0mcorr\u001b[0m\u001b[0;34m(\u001b[0m\u001b[0;34m)\u001b[0m\u001b[0;34m\u001b[0m\u001b[0;34m\u001b[0m\u001b[0m\n\u001b[1;32m      4\u001b[0m \u001b[0mplt\u001b[0m\u001b[0;34m.\u001b[0m\u001b[0mfigure\u001b[0m\u001b[0;34m(\u001b[0m\u001b[0mfigsize\u001b[0m\u001b[0;34m=\u001b[0m\u001b[0;34m(\u001b[0m\u001b[0;36m10\u001b[0m\u001b[0;34m,\u001b[0m \u001b[0;36m10\u001b[0m\u001b[0;34m)\u001b[0m\u001b[0;34m)\u001b[0m\u001b[0;34m\u001b[0m\u001b[0;34m\u001b[0m\u001b[0m\n\u001b[0;32m----> 5\u001b[0;31m \u001b[0msns\u001b[0m\u001b[0;34m.\u001b[0m\u001b[0mheatmap\u001b[0m\u001b[0;34m(\u001b[0m\u001b[0mcorr\u001b[0m\u001b[0;34m,\u001b[0m \u001b[0mxticklabels\u001b[0m\u001b[0;34m=\u001b[0m\u001b[0mcorr\u001b[0m\u001b[0;34m.\u001b[0m\u001b[0mcolumns\u001b[0m\u001b[0;34m,\u001b[0m \u001b[0myticklabels\u001b[0m\u001b[0;34m=\u001b[0m\u001b[0mcorr\u001b[0m\u001b[0;34m.\u001b[0m\u001b[0mcolumns\u001b[0m\u001b[0;34m,\u001b[0m \u001b[0mcmap\u001b[0m\u001b[0;34m=\u001b[0m\u001b[0msns\u001b[0m\u001b[0;34m.\u001b[0m\u001b[0mdiverging_palette\u001b[0m\u001b[0;34m(\u001b[0m\u001b[0;36m220\u001b[0m\u001b[0;34m,\u001b[0m \u001b[0;36m10\u001b[0m\u001b[0;34m,\u001b[0m \u001b[0mas_cmap\u001b[0m\u001b[0;34m=\u001b[0m\u001b[0;32mTrue\u001b[0m\u001b[0;34m)\u001b[0m\u001b[0;34m,\u001b[0m \u001b[0mannot\u001b[0m\u001b[0;34m=\u001b[0m\u001b[0;32mTrue\u001b[0m\u001b[0;34m)\u001b[0m\u001b[0;34m\u001b[0m\u001b[0;34m\u001b[0m\u001b[0m\n\u001b[0m",
      "\u001b[0;31mNameError\u001b[0m: name 'sns' is not defined"
     ]
    },
    {
     "data": {
      "text/plain": [
       "<Figure size 720x720 with 0 Axes>"
      ]
     },
     "metadata": {},
     "output_type": "display_data"
    }
   ],
   "source": [
    "print(\"Number of rows: {}\".format(df.Product.count()))\n",
    "df.info()\n"
   ]
  },
  {
   "cell_type": "code",
   "execution_count": 60,
   "metadata": {},
   "outputs": [
    {
     "data": {
      "text/plain": [
       "<matplotlib.axes._subplots.AxesSubplot at 0x7f0a1b5b92d0>"
      ]
     },
     "execution_count": 60,
     "metadata": {},
     "output_type": "execute_result"
    },
    {
     "data": {
      "image/png": "[encoded data removed]",
      "text/plain": [
       "<Figure size 432x288 with 2 Axes>"
      ]
     },
     "metadata": {
      "needs_background": "light"
     },
     "output_type": "display_data"
    }
   ],
   "source": [
    "corr = df.loc[:,df.dtypes == 'float64'].corr()\n",
    "# plt.figure(figsize=(10, 10))\n",
    "sns.heatmap(corr, xticklabels=corr.columns, yticklabels=corr.columns, cmap=sns.diverging_palette(220, 10, as_cmap=True), annot=True)"
   ]
  },
  {
   "cell_type": "markdown",
   "metadata": {},
   "source": [
    "## Fill the NAN values with the mean of the colomn"
   ]
  },
  {
   "cell_type": "code",
   "execution_count": 39,
   "metadata": {},
   "outputs": [
    {
     "name": "stdout",
     "output_type": "stream",
     "text": [
      "<class 'pandas.core.frame.DataFrame'>\n",
      "RangeIndex: 441 entries, 0 to 440\n",
      "Data columns (total 7 columns):\n",
      " #   Column         Non-Null Count  Dtype  \n",
      "---  ------         --------------  -----  \n",
      " 0   Product        441 non-null    object \n",
      " 1   Produced Qty   441 non-null    int64  \n",
      " 2   BD & other     441 non-null    float64\n",
      " 3   Startup Delay  441 non-null    float64\n",
      " 4   Total time     441 non-null    float64\n",
      " 5   Rejects Pct    441 non-null    float64\n",
      " 6   OEE            441 non-null    float64\n",
      "dtypes: float64(5), int64(1), object(1)\n",
      "memory usage: 24.2+ KB\n"
     ]
    }
   ],
   "source": [
    "for val in [\"Rejects Pct\"]:#[\"Rejects Pct\", \"Mix yield\"]\n",
    "    df[val] = df[val].fillna(df[val].mean())\n",
    "    \n",
    "df.info()"
   ]
  },
  {
   "cell_type": "code",
   "execution_count": 40,
   "metadata": {},
   "outputs": [],
   "source": [
    "group_by_products = df.groupby(by=['Product'])\n",
    "product_data_avg = group_by_products.mean()\n",
    "product_data_count = group_by_products.count()\n",
    "# print(product_data_avg)\n",
    "# print(product_data_count)"
   ]
  },
  {
   "cell_type": "markdown",
   "metadata": {},
   "source": [
    "## Some plots using seaboarn\n",
    "https://towardsdatascience.com/a-guide-to-pandas-and-matplotlib-for-data-exploration-56fad95f951c\n",
    "    "
   ]
  },
  {
   "cell_type": "code",
   "execution_count": 41,
   "metadata": {},
   "outputs": [],
   "source": [
    "# import seaborn as sns\n",
    "# %matplotlib inline\n",
    "\n",
    "# filtered_class = df[df['Product'] == 'WB Chocolate']\n",
    "# sns.lmplot(\"OEE\", \"Rejects Pct\", data=filtered_class, fit_reg=False, col='Product', col_wrap=2)"
   ]
  },
  {
   "cell_type": "markdown",
   "metadata": {},
   "source": [
    "frames = [df[df[\"Mix yield\"].isna()], df[df[\"Rejects Qty\"].isna()]]\n",
    "pd.concat(frames)"
   ]
  },
  {
   "cell_type": "code",
   "execution_count": 42,
   "metadata": {
    "scrolled": false
   },
   "outputs": [],
   "source": [
    "# from matplotlib.ticker import AutoMinorLocator\n",
    "# import matplotlib.pyplot as plt\n",
    "\n",
    "# fig = plt.figure(figsize=(18,6))\n",
    "\n",
    "# ax1 = sns.violinplot('Product', \"OEE\", data=df)\n",
    "\n",
    "\n",
    "# ax1.minorticks_on()\n",
    "# ax1.xaxis.set_minor_locator(AutoMinorLocator(2))\n",
    "# ax1.grid(which='minor', axis='x', linewidth=1)"
   ]
  },
  {
   "cell_type": "code",
   "execution_count": 43,
   "metadata": {},
   "outputs": [],
   "source": [
    "# sns.pairplot(df.loc[:,df.dtypes == 'float64'])"
   ]
  },
  {
   "cell_type": "code",
   "execution_count": 44,
   "metadata": {},
   "outputs": [],
   "source": [
    "# corr = df.loc[:,df.dtypes == 'float64'].corr()\n",
    "# sns.heatmap(corr, xticklabels=corr.columns, yticklabels=corr.columns, cmap=sns.diverging_palette(220, 10, as_cmap=True))"
   ]
  },
  {
   "cell_type": "code",
   "execution_count": 45,
   "metadata": {},
   "outputs": [
    {
     "name": "stdout",
     "output_type": "stream",
     "text": [
      "Product              = 12\n",
      "Produced Qty         = 433\n",
      "BD & other           = 261\n",
      "Startup Delay        = 130\n",
      "Total time           = 208\n",
      "Rejects Pct          = 301\n",
      "OEE                  = 439\n"
     ]
    }
   ],
   "source": [
    "for col in df.columns.values:\n",
    "    print(\"{:20} = {}\".format(col, df[col].nunique()))"
   ]
  },
  {
   "cell_type": "markdown",
   "metadata": {},
   "source": [
    "## Here we test different regression methods"
   ]
  },
  {
   "cell_type": "code",
   "execution_count": 46,
   "metadata": {},
   "outputs": [],
   "source": [
    "def test_results(model, features, actual):\n",
    "    y_pred = model.predict([features])\n",
    "    print(\"Result: {}\\nActual: {}\".format(y_pred[0], actual))\n",
    "    print(\"Error:{}\\nSqured Error:{}\".format(y_pred[0]-actual, (y_pred[0]-actual)**2))"
   ]
  },
  {
   "cell_type": "markdown",
   "metadata": {},
   "source": [
    "### Decision Tree "
   ]
  },
  {
   "cell_type": "code",
   "execution_count": 47,
   "metadata": {},
   "outputs": [],
   "source": [
    "from sklearn.tree import DecisionTreeRegressor\n",
    "from sklearn.model_selection import train_test_split\n",
    "from sklearn.metrics import r2_score"
   ]
  },
  {
   "cell_type": "code",
   "execution_count": 48,
   "metadata": {},
   "outputs": [],
   "source": [
    "# Products as a input\n",
    "df['Product'] = pd.Categorical(df['Product'])\n",
    "dfDummies = pd.get_dummies(df['Product'], prefix = 'prod')\n",
    "# dfDummies.info()\n",
    "df_p = pd.concat([df, dfDummies], axis=1)\n",
    "# df_p.info()"
   ]
  },
  {
   "cell_type": "code",
   "execution_count": 49,
   "metadata": {},
   "outputs": [],
   "source": [
    "# Select only one product\n",
    "# df_p = df[df['Product']==\"WB Chocolate\"]\n",
    "# df_p = df[df['Product']==\"MM Orange\"]"
   ]
  },
  {
   "cell_type": "code",
   "execution_count": 50,
   "metadata": {},
   "outputs": [
    {
     "name": "stdout",
     "output_type": "stream",
     "text": [
      "Accuracy: 0.7603470345941924\n"
     ]
    }
   ],
   "source": [
    "y = df_p[\"OEE\"]\n",
    "X = df_p.drop(['Product', 'OEE'], axis = 1) \n",
    "\n",
    "X_train, X_test, y_train, y_test = train_test_split(X, y, test_size=0.3, random_state=0)\n",
    "\n",
    "regressor = DecisionTreeRegressor(random_state=0)\n",
    "regressor.fit(X_train,y_train)\n",
    "\n",
    "y_pred = regressor.predict(X_test)\n",
    "print(\"Accuracy:\", r2_score(y_test, y_pred))"
   ]
  },
  {
   "cell_type": "code",
   "execution_count": 21,
   "metadata": {},
   "outputs": [
    {
     "data": {
      "image/png": "[encoded data removed]",
      "text/plain": [
       "<Figure size 432x288 with 1 Axes>"
      ]
     },
     "metadata": {
      "needs_background": "light"
     },
     "output_type": "display_data"
    }
   ],
   "source": [
    "from sklearn import tree\n",
    "t = tree.plot_tree(regressor)"
   ]
  },
  {
   "cell_type": "code",
   "execution_count": 51,
   "metadata": {},
   "outputs": [
    {
     "name": "stdout",
     "output_type": "stream",
     "text": [
      "Result: 0.325280898876404\n",
      "Actual: 0.355357142857143\n",
      "Error:-0.030076243980738993\n",
      "Squred Error:0.0009045804519889385\n"
     ]
    }
   ],
   "source": [
    "number = 2\n",
    "test_results(regressor, X_test.iloc[number], y_test.iloc[number])\n",
    "# y_pred = regressor.predict([X.loc[number]])\n",
    "# print(\"Features: {}\\nResult: {}\".format(X.loc[number], y_pred))"
   ]
  },
  {
   "cell_type": "code",
   "execution_count": 23,
   "metadata": {},
   "outputs": [
    {
     "name": "stdout",
     "output_type": "stream",
     "text": [
      "['Produced Qty', 'BD & other', 'Startup Delay', 'Eff Prod time', 'Rejects Pct', 'prod_2-Bar Vanilla Faluda', 'prod_Bubble Gummy', 'prod_Ice Cake', 'prod_JJ Cream Soda', 'prod_JJ Necto', 'prod_JJ Orange Crush', 'prod_MM Orange', 'prod_MM Watermelon', 'prod_WB Berry', 'prod_WB Chock Shock', 'prod_WB Chocolate', 'prod_WB Vanilla']\n"
     ]
    },
    {
     "name": "stderr",
     "output_type": "stream",
     "text": [
      "/home/dulanj/Environments/py376/lib/python3.7/site-packages/sklearn/externals/six.py:31: FutureWarning: The module is deprecated in version 0.21 and will be removed in version 0.23 since we've dropped support for Python 2.7. Please rely on the official version of six (https://pypi.org/project/six/).\n",
      "  \"(https://pypi.org/project/six/).\", FutureWarning)\n"
     ]
    },
    {
     "data": {
      "text/plain": [
       "True"
      ]
     },
     "execution_count": 23,
     "metadata": {},
     "output_type": "execute_result"
    }
   ],
   "source": [
    "import matplotlib.pyplot as plt\n",
    "import pydotplus\n",
    "import matplotlib.image as mpimg\n",
    "import io\n",
    "\n",
    "from sklearn.externals.six import StringIO\n",
    "from sklearn.tree import export_graphviz\n",
    "\n",
    "dot_data = io.StringIO()\n",
    "\n",
    "# plot_colomns = useful_colomns.remove(\"OEE\")#[\"Total time\", \"Breakdowns and other delays\", \"Effective production time\", \"Produced Qty\", \"Rejects Qty\", \"Mix Usage\", \"Mix Wastage\", \"Mix yield\"]\n",
    "plot_colomns = list(df_p.columns)\n",
    "plot_colomns.remove('OEE')\n",
    "plot_colomns.remove('Product')\n",
    "print(plot_colomns)\n",
    "export_graphviz(regressor, out_file=dot_data, feature_names=plot_colomns, class_names=[\"OEE\"], rounded=True, filled=True)\n",
    "\n",
    "filename = \"tree_new.png\"\n",
    "pydotplus.graph_from_dot_data(dot_data.getvalue()).write_png(filename)\n",
    "\n",
    "# plt.figure(figsize=(12,12))\n",
    "# img = mpimg.imread(filename)\n",
    "# imgplot = plt.imshow(img)\n",
    "\n",
    "# plt.show()"
   ]
  },
  {
   "cell_type": "code",
   "execution_count": 53,
   "metadata": {},
   "outputs": [],
   "source": [
    "# Scale the data\n",
    "from sklearn.preprocessing import StandardScaler\n",
    "\n",
    "y = df_p[\"OEE\"]\n",
    "X = df_p.drop(['Product', 'OEE'], axis = 1) \n",
    "\n",
    "X_train, X_test, y_train, y_test = train_test_split(X, y, test_size=0.3, random_state=0)\n",
    "\n",
    "def scale(dataframe, scaler=None):\n",
    "    colomns_to_scale = [\"Produced Qty\", \"BD & other\", \"Startup Delay\", \"Total time\", \"Rejects Pct\"]\n",
    "    # Only scale relevenat features\n",
    "    scaled_features = dataframe.copy()\n",
    "    features = scaled_features[colomns_to_scale]\n",
    "    if scaler is None:\n",
    "        scaler = StandardScaler().fit(features.values)\n",
    "    features = scaler.transform(features.values)\n",
    "    scaled_features[colomns_to_scale] = features\n",
    "    return scaled_features, scaler\n",
    "\n",
    "X_train_s, scaler = scale(X_train)\n",
    "X_test_s, _ = scale(X_test, scaler)\n",
    "# X_train_s.head()\n",
    "# X_test_s.head()"
   ]
  },
  {
   "cell_type": "markdown",
   "metadata": {},
   "source": [
    "### Random Forest"
   ]
  },
  {
   "cell_type": "code",
   "execution_count": 55,
   "metadata": {},
   "outputs": [
    {
     "name": "stdout",
     "output_type": "stream",
     "text": [
      "Accuracy: 0.8810299709783814\n"
     ]
    }
   ],
   "source": [
    "from sklearn.ensemble import RandomForestRegressor\n",
    "\n",
    "random_forest_regressor = RandomForestRegressor(n_estimators=100, random_state=0)\n",
    "random_forest_regressor.fit(X_train_s, y_train)\n",
    "y_pred_t = random_forest_regressor.predict(X_test_s)\n",
    "print(\"Accuracy:\", r2_score(y_test, y_pred_t))"
   ]
  },
  {
   "cell_type": "markdown",
   "metadata": {},
   "source": [
    "### Neural network"
   ]
  },
  {
   "cell_type": "code",
   "execution_count": 56,
   "metadata": {},
   "outputs": [
    {
     "name": "stdout",
     "output_type": "stream",
     "text": [
      "Input Dimention: 17\n",
      "Model: \"sequential_4\"\n",
      "_________________________________________________________________\n",
      "Layer (type)                 Output Shape              Param #   \n",
      "=================================================================\n",
      "dense_13 (Dense)             (None, 100)               1800      \n",
      "_________________________________________________________________\n",
      "dense_14 (Dense)             (None, 40)                4040      \n",
      "_________________________________________________________________\n",
      "dense_15 (Dense)             (None, 20)                820       \n",
      "_________________________________________________________________\n",
      "dense_16 (Dense)             (None, 1)                 21        \n",
      "=================================================================\n",
      "Total params: 6,681\n",
      "Trainable params: 6,681\n",
      "Non-trainable params: 0\n",
      "_________________________________________________________________\n",
      "None\n",
      "Accuracy: 0.9260695190147299\n"
     ]
    },
    {
     "data": {
      "image/png": "[encoded data removed]",
      "text/plain": [
       "<IPython.core.display.Image object>"
      ]
     },
     "execution_count": 56,
     "metadata": {},
     "output_type": "execute_result"
    }
   ],
   "source": [
    "from keras.models import Sequential\n",
    "from keras.layers import Dense\n",
    "\n",
    "model = Sequential()\n",
    "input_dim = len(X_train_s.columns)\n",
    "model.add(Dense(100, input_dim=input_dim, activation='relu'))\n",
    "model.add(Dense(40, activation='relu'))\n",
    "model.add(Dense(20, activation='relu'))\n",
    "model.add(Dense(1, activation='linear'))\n",
    "print(\"Input Dimention: {}\".format(input_dim))\n",
    "print(model.summary())\n",
    "\n",
    "# compile the keras model\n",
    "model.compile(loss='mean_absolute_error', optimizer='adam', metrics=['mean_absolute_error'])\n",
    "\n",
    "model.fit(X_train_s, y_train, epochs=100, batch_size=10, verbose=0)\n",
    "\n",
    "y_pred = model.predict(X_test_s)\n",
    "print(\"Accuracy:\", r2_score(y_test, y_pred))\n",
    "\n",
    "# SAve model as image\n",
    "from keras.utils import plot_model\n",
    "plot_model(model, to_file='model.png',show_shapes=True)"
   ]
  },
  {
   "cell_type": "code",
   "execution_count": 30,
   "metadata": {},
   "outputs": [
    {
     "name": "stdout",
     "output_type": "stream",
     "text": [
      "Result: 0.549509803921569\n",
      "Actual: 0.590192043896313\n",
      "Error:-0.04068223997474396\n",
      "Squred Error:0.0016550446493626555\n"
     ]
    }
   ],
   "source": [
    "number = 3\n",
    "test_results(regressor, X_test_s.iloc[number], y_test.iloc[number])"
   ]
  },
  {
   "cell_type": "code",
   "execution_count": null,
   "metadata": {},
   "outputs": [],
   "source": []
  }
 ],
 "metadata": {
  "kernelspec": {
   "display_name": "Python 3",
   "language": "python",
   "name": "python3"
  },
  "language_info": {
   "codemirror_mode": {
    "name": "ipython",
    "version": 3
   },
   "file_extension": ".py",
   "mimetype": "text/x-python",
   "name": "python",
   "nbconvert_exporter": "python",
   "pygments_lexer": "ipython3",
   "version": "3.7.6"
  }
 },
 "nbformat": 4,
 "nbformat_minor": 4
}
